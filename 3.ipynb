{
  "nbformat": 4,
  "nbformat_minor": 0,
  "metadata": {
    "colab": {
      "name": "3",
      "provenance": [],
      "authorship_tag": "ABX9TyOg3oR4FSBSlJyciNBApgB/",
      "include_colab_link": true
    },
    "kernelspec": {
      "name": "python3",
      "display_name": "Python 3"
    }
  },
  "cells": [
    {
      "cell_type": "markdown",
      "metadata": {
        "id": "view-in-github",
        "colab_type": "text"
      },
      "source": [
        "<a href=\"https://colab.research.google.com/github/deClot/Hakaton_Superhero/blob/master/3.ipynb\" target=\"_parent\"><img src=\"https://colab.research.google.com/assets/colab-badge.svg\" alt=\"Open In Colab\"/></a>"
      ]
    },
    {
      "cell_type": "code",
      "metadata": {
        "id": "uMv6BO7ngPBs",
        "colab_type": "code",
        "colab": {
          "base_uri": "https://localhost:8080/",
          "height": 17
        },
        "outputId": "2d5704be-cb2f-4615-a965-1060543a6fc2"
      },
      "source": [
        "import pandas as pd\n",
        "import numpy as np\n",
        "\n",
        "import warnings\n",
        "warnings.filterwarnings('ignore')\n",
        "\n",
        "import cufflinks as cf\n",
        "import plotly.offline\n",
        "cf.go_offline()\n",
        "cf.set_config_file(offline=False, world_readable=True)\n",
        "from plotly.offline import init_notebook_mode, iplot\n",
        "\n",
        "import plotly.graph_objects as go\n",
        "from plotly.subplots import make_subplots\n",
        "\n",
        "import matplotlib.pyplot as plt\n",
        "\n",
        "import IPython\n",
        "\n",
        "def display(*dfs):\n",
        "    for df in dfs:\n",
        "        IPython.display.display(df)\n",
        " \n",
        "def enable_plotly_in_cell():\n",
        "  import IPython\n",
        "  from plotly.offline import init_notebook_mode\n",
        "  display(IPython.core.display.HTML('''\n",
        "        <script src=\"/static/components/requirejs/require.js\"></script>\n",
        "  '''))\n",
        "  init_notebook_mode(connected=False)\n",
        "\n",
        "\n",
        "plt.rcParams['figure.figsize'] = [10,5]"
      ],
      "execution_count": 176,
      "outputs": [
        {
          "output_type": "display_data",
          "data": {
            "text/html": [
              "        <script type=\"text/javascript\">\n",
              "        window.PlotlyConfig = {MathJaxConfig: 'local'};\n",
              "        if (window.MathJax) {MathJax.Hub.Config({SVG: {font: \"STIX-Web\"}});}\n",
              "        if (typeof require !== 'undefined') {\n",
              "        require.undef(\"plotly\");\n",
              "        requirejs.config({\n",
              "            paths: {\n",
              "                'plotly': ['https://cdn.plot.ly/plotly-latest.min']\n",
              "            }\n",
              "        });\n",
              "        require(['plotly'], function(Plotly) {\n",
              "            window._Plotly = Plotly;\n",
              "        });\n",
              "        }\n",
              "        </script>\n",
              "        "
            ]
          },
          "metadata": {
            "tags": []
          }
        }
      ]
    },
    {
      "cell_type": "code",
      "metadata": {
        "id": "oNZ6v_nLhdEX",
        "colab_type": "code",
        "colab": {}
      },
      "source": [
        "def get_season(x):\n",
        "  return 1 if x in [12,1,2] else 2 if x in [3,4,5] else 3 if x in [6,7,8] else 4\n",
        "\n",
        "def preprocess_datetime(df, time_columns):\n",
        "    for t in time_columns:\n",
        "        df[t+'_month'] = df[t].dt.month\n",
        "        df[t+'_season'] = df[t+'_month'].apply(get_season)\n",
        "        df[t+'_is_month_start'] = df[t].dt.is_month_start\n",
        "        df[t+'_is_month_end'] = df[t].dt.is_month_end\n",
        "        df[t+'_day'] = df[t].dt.day\n",
        "        # df[t+'_hour'] = df[t].dt.hour\n",
        "        df[t+'_dayofweek'] = df[t].dt.dayofweek\n",
        "        df[t+'_is_weekend'] = df[t+'_dayofweek'] >= 5\n",
        "        df[t+'_quarter'] = df[t].dt.quarter\n",
        "\n",
        "def get_regions(df):\n",
        "  base = {'Кукморский': 'Кукмор',\n",
        "          'Мамадышский': 'Мамадыш',\n",
        "          'Нурлатский': 'Нурлат',\n",
        "          'Азнакаевский': 'Азнакаево', \n",
        "          'Апастовский':'Апастово',\n",
        "          'Бугульминский': 'Бигульма',\n",
        "          'Елабужский':'Елабуга',\n",
        "          'Бавлинский':'Бавлы',\n",
        "          'Нижегородский':'Нижний Новгород',\n",
        "          'Чистопольский':'Чистополь',\n",
        "          'Вятские поляны': 'Вятские Поляны',\n",
        "          'Новгород Великий':'Новгород'}\n",
        "  to_cut = {k:k[:-2]  for k in reg if 'ский' in k}\n",
        "\n",
        "  temp = df.LivingRegionName.copy().astype('object')\n",
        "  temp[temp.isin(base.keys())] = temp[temp.isin(base.keys())].map(base)\n",
        "  temp[temp.isin(to_cut.keys())]  = temp[temp.isin(to_cut.keys())] .map(to_cut)\n",
        "  temp = temp.map(city_to_regions)\n",
        "  assert temp.isna().sum() == 0\n",
        "\n",
        "  df.LivingRegionName = temp.astype('category')"
      ],
      "execution_count": 296,
      "outputs": []
    },
    {
      "cell_type": "code",
      "metadata": {
        "id": "UgUdFlUzgaPY",
        "colab_type": "code",
        "colab": {
          "base_uri": "https://localhost:8080/",
          "height": 34
        },
        "outputId": "02b2ec3b-5ce6-4487-c33f-4be8ac97a730"
      },
      "source": [
        "df = pd.read_excel('3_train.xlsx')\n",
        "df.shape"
      ],
      "execution_count": 297,
      "outputs": [
        {
          "output_type": "execute_result",
          "data": {
            "text/plain": [
              "(8501, 24)"
            ]
          },
          "metadata": {
            "tags": []
          },
          "execution_count": 297
        }
      ]
    },
    {
      "cell_type": "code",
      "metadata": {
        "id": "HE28s_zJkPyI",
        "colab_type": "code",
        "colab": {}
      },
      "source": [
        "df.rename(columns={'ConfirmedMonthlyIncome (Target)': 'target'}, inplace=True)\n",
        "df.drop('NaturalPersonID', axis=1, inplace=True)\n",
        "df.kolichestvo_detej_mladshe_18 = df.kolichestvo_detej_mladshe_18.astype('object')\n",
        "\n",
        "preprocess_datetime(df, ['RequestDate'])\n",
        "df = df.drop('RequestDate', axis=1)\n",
        "features_time = [f for f in df.columns if 'RequestDate_' in f]\n",
        "\n",
        "features_cat =  df.select_dtypes('object').columns.tolist()\n",
        "# df[features_cat] = df[features_cat].astype('category')\n",
        "features_num = [f for f in df.columns if f not  in features_cat and f not in features_time]\n",
        "\n",
        "assert len(features_num) + len(features_cat) + len(features_time) == df.shape[1]"
      ],
      "execution_count": 298,
      "outputs": []
    },
    {
      "cell_type": "code",
      "metadata": {
        "id": "3_uMof4yweFs",
        "colab_type": "code",
        "colab": {}
      },
      "source": [
        "df.drop(['SignIP.1', 'Employment.1','TypeOfWork.1'], axis=1, inplace=True)\n",
        "for f in ['SignIP.1', 'Employment.1','TypeOfWork.1'] :\n",
        "  features_cat.remove(f)"
      ],
      "execution_count": 299,
      "outputs": []
    },
    {
      "cell_type": "code",
      "metadata": {
        "id": "oD5m3310nY9v",
        "colab_type": "code",
        "colab": {}
      },
      "source": [
        "regions = pd.read_json('russia')\n",
        "city_to_regions = regions.set_index('city').to_dict()['region']\n",
        "\n",
        "reg = [f for f in df.LivingRegionName.unique() if 'ский' in f]\n",
        "city = [f for f in df.LivingRegionName.unique() if f not in reg]\n",
        "df['in_region'] = np.where(df.LivingRegionName.isin(reg), 1,0)\n",
        "get_regions(df)"
      ],
      "execution_count": 300,
      "outputs": []
    },
    {
      "cell_type": "code",
      "metadata": {
        "id": "Uod4OAAa2X58",
        "colab_type": "code",
        "colab": {}
      },
      "source": [
        "df['age_cat'] = pd.cut(df.age, bins=(0, 23, 30, 40, 50, 65, 100), labels=[0,1,2,3,4,5])\n",
        "features_cat.append('age_cat')\n",
        "features_num.remove('age')"
      ],
      "execution_count": 301,
      "outputs": []
    },
    {
      "cell_type": "code",
      "metadata": {
        "id": "EzJTm56Ex7Af",
        "colab_type": "code",
        "colab": {}
      },
      "source": [
        "df = df[(df.otrasl_rabotodatelya.notna())&(df.kolichestvo_rabotnikov_v_organizacii.notna())]\n",
        "df.SignIP = df.SignIP.astype('object').fillna(0)#.astype('category')"
      ],
      "execution_count": 302,
      "outputs": []
    },
    {
      "cell_type": "code",
      "metadata": {
        "id": "xjkNLeV8vpET",
        "colab_type": "code",
        "colab": {}
      },
      "source": [
        "df.TypeOfWork[df.SignIP=='ИП'] = 'Индивидуальный предприниматель'"
      ],
      "execution_count": 303,
      "outputs": []
    },
    {
      "cell_type": "code",
      "metadata": {
        "id": "m0WSNnNbwYCv",
        "colab_type": "code",
        "colab": {
          "base_uri": "https://localhost:8080/",
          "height": 136
        },
        "outputId": "93eb9841-b1c3-48bc-da56-30fecac6fda8"
      },
      "source": [
        "df.Employment[df.SignIP=='ИП'] = 'Индивидуальный предприниматель'\n",
        "df.Employment.fillna('нет данных', inplace=True)\n",
        "df.Employment.value_counts()"
      ],
      "execution_count": 304,
      "outputs": [
        {
          "output_type": "execute_result",
          "data": {
            "text/plain": [
              "Сотрудник \\ Рабочий \\ Ассистент                   5982\n",
              "Главный Специалист\\Руководитель среднего звена    1292\n",
              "Эксперт\\Старший или Ведущий Специалист             672\n",
              "Руководитель высшего звена                         492\n",
              "Индивидуальный предприниматель                      59\n",
              "нет данных                                           3\n",
              "Name: Employment, dtype: int64"
            ]
          },
          "metadata": {
            "tags": []
          },
          "execution_count": 304
        }
      ]
    },
    {
      "cell_type": "code",
      "metadata": {
        "id": "Sk6Cwd8jyNgy",
        "colab_type": "code",
        "colab": {
          "base_uri": "https://localhost:8080/",
          "height": 34
        },
        "outputId": "5b5e2678-86b6-46ef-de97-e48ead2e03b1"
      },
      "source": [
        "# сотрудники банка работают на полную ставку - заполнение пропска по типу работы\n",
        "df.loc[(df.IsBankWorker=='да')&(df.harakteristika_tekutschego_trudoustrojstva.isna()),\n",
        "       'harakteristika_tekutschego_trudoustrojstva'] = 'Постоянная, полная занятость'\n",
        "df.harakteristika_tekutschego_trudoustrojstva.isna().sum()"
      ],
      "execution_count": 305,
      "outputs": [
        {
          "output_type": "execute_result",
          "data": {
            "text/plain": [
              "8"
            ]
          },
          "metadata": {
            "tags": []
          },
          "execution_count": 305
        }
      ]
    },
    {
      "cell_type": "code",
      "metadata": {
        "id": "DcQNe5Y0zu7a",
        "colab_type": "code",
        "colab": {
          "base_uri": "https://localhost:8080/",
          "height": 170
        },
        "outputId": "b7b63ec7-0bd0-47ae-ebe0-dc2930f7edf1"
      },
      "source": [
        "df[df.harakteristika_tekutschego_trudoustrojstva.isna()].SignIP"
      ],
      "execution_count": 306,
      "outputs": [
        {
          "output_type": "execute_result",
          "data": {
            "text/plain": [
              "102     ИП\n",
              "830      0\n",
              "904     ИП\n",
              "1049    ИП\n",
              "2966     0\n",
              "3656    ИП\n",
              "6188     0\n",
              "7022     0\n",
              "Name: SignIP, dtype: object"
            ]
          },
          "metadata": {
            "tags": []
          },
          "execution_count": 306
        }
      ]
    },
    {
      "cell_type": "code",
      "metadata": {
        "id": "3II8Xrqt0bGN",
        "colab_type": "code",
        "colab": {}
      },
      "source": [
        "df.IncomeDocumentKind = df.IncomeDocumentKind.astype('object').fillna('Нет запрашивали')#.astype('category')"
      ],
      "execution_count": 307,
      "outputs": []
    },
    {
      "cell_type": "code",
      "metadata": {
        "id": "84PUCedL135q",
        "colab_type": "code",
        "colab": {}
      },
      "source": [
        "df.Residence = df.Residence.astype('object').fillna('na')#.astype('category')"
      ],
      "execution_count": 308,
      "outputs": []
    },
    {
      "cell_type": "code",
      "metadata": {
        "id": "H3pCm2Kf2DN8",
        "colab_type": "code",
        "colab": {}
      },
      "source": [
        "df.TypeOfWork = df.TypeOfWork.astype('object').fillna('na')#.astype('category')"
      ],
      "execution_count": 309,
      "outputs": []
    },
    {
      "cell_type": "code",
      "metadata": {
        "id": "8_VhixPY9R5u",
        "colab_type": "code",
        "colab": {}
      },
      "source": [
        "# bins = [-1, 25,75,125,175,225,275,325,375,425,475,550,650,750,850,950,1250,1750,2500,3500]\n",
        "# labels = [25,50,100,150,200,250,300,350,400,450,500,600,700,800,900,1000,1500,2000,3000]\n",
        "# credit = pd.cut(temp/10**3, bins=bins, labels=labels).astype('int')"
      ],
      "execution_count": 310,
      "outputs": []
    },
    {
      "cell_type": "code",
      "metadata": {
        "id": "NdHwnpbzNgfN",
        "colab_type": "code",
        "colab": {}
      },
      "source": [
        "features_num.remove('target')"
      ],
      "execution_count": 311,
      "outputs": []
    },
    {
      "cell_type": "markdown",
      "metadata": {
        "id": "z1hAGxGaBOb6",
        "colab_type": "text"
      },
      "source": [
        "# Model"
      ]
    },
    {
      "cell_type": "code",
      "metadata": {
        "id": "n02uOFZ1BNwi",
        "colab_type": "code",
        "colab": {}
      },
      "source": [
        "from sklearn.linear_model import OrthogonalMatchingPursuit\n",
        "from sklearn.metrics import mean_squared_error\n",
        "from sklearn.model_selection import train_test_split, ShuffleSplit, cross_validate\n",
        "from sklearn.preprocessing import StandardScaler, OneHotEncoder, OrdinalEncoder\n",
        "\n",
        "import xgboost as xgb\n",
        "\n",
        "def get_train_val(X, y, cv5):\n",
        "  for train_idx, val_idx in cv5.split(X, y):\n",
        "      X_train, y_train = X.iloc[train_idx], y.iloc[train_idx]\n",
        "      X_val, y_val = X.iloc[val_idx], y.iloc[val_idx]\n",
        "      break\n",
        "  return X_train, y_train, X_val, y_val "
      ],
      "execution_count": 312,
      "outputs": []
    },
    {
      "cell_type": "code",
      "metadata": {
        "id": "JfhaUID78tni",
        "colab_type": "code",
        "colab": {}
      },
      "source": [
        "# df_ini = df.copy()"
      ],
      "execution_count": 313,
      "outputs": []
    },
    {
      "cell_type": "code",
      "metadata": {
        "id": "jPlyQuh6CIAF",
        "colab_type": "code",
        "colab": {
          "base_uri": "https://localhost:8080/",
          "height": 34
        },
        "outputId": "e763f2ce-8899-4268-857d-2b5d935fd141"
      },
      "source": [
        "to_drop = ['target'] +['age', 'RequestDate_day']# [f for f in df_ohe.columns if 'age' not in f]\n",
        "display(to_drop)\n",
        "\n",
        "target = df.target\n",
        "X_ini, X_test_ini, y_ini, y_test_ini = train_test_split(df.drop(to_drop, axis=1), target,\n",
        "                                        random_state=2020)\n",
        "\n",
        "cv5 = ShuffleSplit(5, test_size=0.2, random_state=2020)\n",
        "X_train,y_train,X_val,y_val = get_train_val(X_ini, pd.Series(y_ini), cv5)"
      ],
      "execution_count": 439,
      "outputs": [
        {
          "output_type": "display_data",
          "data": {
            "text/plain": [
              "['target', 'age', 'RequestDate_day']"
            ]
          },
          "metadata": {
            "tags": []
          }
        }
      ]
    },
    {
      "cell_type": "code",
      "metadata": {
        "id": "9B11SUOj5NV7",
        "colab_type": "code",
        "colab": {
          "base_uri": "https://localhost:8080/",
          "height": 348
        },
        "outputId": "1616082e-b7e4-443e-9691-9e6171033b46"
      },
      "source": [
        "temp = pd.concat([y_train, y_val, y_test_ini],axis=1)\n",
        "temp.columns = ['train', 'val', 'test']\n",
        "temp.plot(kind='hist', density=True, alpha=0.3);\n",
        "y_train.shape, y_val.shape, y_test.shape"
      ],
      "execution_count": 440,
      "outputs": [
        {
          "output_type": "execute_result",
          "data": {
            "text/plain": [
              "((5100,), (1275,), (2125,))"
            ]
          },
          "metadata": {
            "tags": []
          },
          "execution_count": 440
        },
        {
          "output_type": "display_data",
          "data": {
            "image/png": "[encoded data removed]",
            "text/plain": [
              "<Figure size 720x360 with 1 Axes>"
            ]
          },
          "metadata": {
            "tags": [],
            "needs_background": "light"
          }
        }
      ]
    },
    {
      "cell_type": "code",
      "metadata": {
        "id": "VFH2HCKO7blR",
        "colab_type": "code",
        "colab": {}
      },
      "source": [
        "def features_scaler(features, X, X_test):\n",
        "  scaler = StandardScaler()\n",
        "  X_scaler, X_test_scaler = X.copy(), X_test.copy()\n",
        "  X_scaler[features_num] = scaler.fit_transform(X[features_num])\n",
        "  X_test_scaler[features_num] = scaler.transform(X_test[features_num])\n",
        "\n",
        "  return X_scaler, X_test_scaler\n",
        "\n",
        "\n",
        "def features_log(features, X, X_test):\n",
        "  X_log, X_test_log = X.copy(), X_test.copy()\n",
        "  X_log[features] = np.log1p(X[features])\n",
        "  X_test_log[features] = np.log1p(X_test[features])\n",
        "  return X_log, X_test_log\n",
        "\n",
        "\n",
        "def features_ohe(features, X, X_test):\n",
        "  train_size = X.shape[0]\n",
        "  df = pd.concat([X, X_test])\n",
        "  df = pd.concat([df.drop(features, axis=1), \n",
        "                  pd.get_dummies(df[features].astype('object'), \n",
        "                                 drop_first=True)],#dummy_na=True\n",
        "                  axis=1)\n",
        "  return df.iloc[:train_size], df.iloc[train_size:]\n",
        "\n",
        "\n",
        "def features_le(features, X, X_test):\n",
        "  train_size = X.shape[0]\n",
        "  df = pd.concat([X, X_test])\n",
        "  for f in features:\n",
        "    df[f] = df[f].astype('category').cat.codes\n",
        "  \n",
        "  return df.iloc[:train_size], df.iloc[train_size:]\n",
        "\n",
        "def employ_ip_to_rukovoditel(X, X_test):\n",
        "  X.Employment = X.Employment.astype('object')\n",
        "  X.loc[X.Employment=='Индивидуальный предприниматель', 'Employment'] = 'Руководитель высшего звена'\n",
        "  X_test.Employment = X_test.Employment.astype('object')\n",
        "  X_test.loc[X_test.Employment=='Индивидуальный предприниматель', 'Employment'] = 'Руководитель высшего звена'\n",
        "\n",
        "\n",
        "def move_na_train_to_test(features, X, y, X_test, y_test):\n",
        "  X_test = pd.concat([X_test, X[X[features].isna().any(axis=1)]])\n",
        "  y_test = pd.concat([y_test, y[X[features].isna().any(axis=1)]])\n",
        "  y = y[X[features].notna().all(axis=1)]\n",
        "  X = X[X[features].notna().all(axis=1)]\n",
        "  return X, y, X_test, y_test\n"
      ],
      "execution_count": 456,
      "outputs": []
    },
    {
      "cell_type": "code",
      "metadata": {
        "id": "EXSdcRIDXYh7",
        "colab_type": "code",
        "colab": {
          "base_uri": "https://localhost:8080/",
          "height": 779
        },
        "outputId": "55be3a89-c5e0-4dcb-c769-4ff09dcf397f"
      },
      "source": [
        "display(features_ohe(['Residence'], X_ini, X_test_ini)[0])"
      ],
      "execution_count": 442,
      "outputs": [
        {
          "output_type": "display_data",
          "data": {
            "text/html": [
              "<div>\n",
              "<style scoped>\n",
              "    .dataframe tbody tr th:only-of-type {\n",
              "        vertical-align: middle;\n",
              "    }\n",
              "\n",
              "    .dataframe tbody tr th {\n",
              "        vertical-align: top;\n",
              "    }\n",
              "\n",
              "    .dataframe thead th {\n",
              "        text-align: right;\n",
              "    }\n",
              "</style>\n",
              "<table border=\"1\" class=\"dataframe\">\n",
              "  <thead>\n",
              "    <tr style=\"text-align: right;\">\n",
              "      <th></th>\n",
              "      <th>ProductName</th>\n",
              "      <th>CreditSum</th>\n",
              "      <th>TypeOfWork</th>\n",
              "      <th>Employment</th>\n",
              "      <th>SignIP</th>\n",
              "      <th>sex</th>\n",
              "      <th>EducationStatus</th>\n",
              "      <th>otrasl_rabotodatelya</th>\n",
              "      <th>kolichestvo_rabotnikov_v_organizacii</th>\n",
              "      <th>OrgStanding_N</th>\n",
              "      <th>kolichestvo_detej_mladshe_18</th>\n",
              "      <th>LivingRegionName</th>\n",
              "      <th>IncomeDocumentKind</th>\n",
              "      <th>HaveSalaryCard</th>\n",
              "      <th>IsBankWorker</th>\n",
              "      <th>harakteristika_tekutschego_trudoustrojstva</th>\n",
              "      <th>RequestDate_month</th>\n",
              "      <th>RequestDate_season</th>\n",
              "      <th>RequestDate_is_month_start</th>\n",
              "      <th>RequestDate_is_month_end</th>\n",
              "      <th>RequestDate_dayofweek</th>\n",
              "      <th>RequestDate_is_weekend</th>\n",
              "      <th>RequestDate_quarter</th>\n",
              "      <th>in_region</th>\n",
              "      <th>age_cat</th>\n",
              "      <th>Residence_город</th>\n",
              "      <th>Residence_село</th>\n",
              "    </tr>\n",
              "  </thead>\n",
              "  <tbody>\n",
              "    <tr>\n",
              "      <th>5197</th>\n",
              "      <td>Кредит на потребительские нужды</td>\n",
              "      <td>600000.00</td>\n",
              "      <td>по найму</td>\n",
              "      <td>Главный Специалист\\Руководитель среднего звена</td>\n",
              "      <td>0</td>\n",
              "      <td>Мужской</td>\n",
              "      <td>Высшее образование</td>\n",
              "      <td>Нефть, нефтепереработка, газ</td>\n",
              "      <td>101-500</td>\n",
              "      <td>23.000000</td>\n",
              "      <td>1</td>\n",
              "      <td>Татарстан</td>\n",
              "      <td>2-НДФЛ</td>\n",
              "      <td>нет</td>\n",
              "      <td>нет</td>\n",
              "      <td>Постоянная, полная занятость</td>\n",
              "      <td>8</td>\n",
              "      <td>3</td>\n",
              "      <td>False</td>\n",
              "      <td>False</td>\n",
              "      <td>1</td>\n",
              "      <td>False</td>\n",
              "      <td>3</td>\n",
              "      <td>1</td>\n",
              "      <td>3</td>\n",
              "      <td>0</td>\n",
              "      <td>0</td>\n",
              "    </tr>\n",
              "    <tr>\n",
              "      <th>5787</th>\n",
              "      <td>Кредит на потребительские нужды</td>\n",
              "      <td>226632.00</td>\n",
              "      <td>по найму</td>\n",
              "      <td>Эксперт\\Старший или Ведущий Специалист</td>\n",
              "      <td>0</td>\n",
              "      <td>Женский</td>\n",
              "      <td>Высшее образование</td>\n",
              "      <td>Прочее</td>\n",
              "      <td>более 500</td>\n",
              "      <td>13.000000</td>\n",
              "      <td>1</td>\n",
              "      <td>Татарстан</td>\n",
              "      <td>Выписка по счету</td>\n",
              "      <td>да</td>\n",
              "      <td>нет</td>\n",
              "      <td>Постоянная, полная занятость</td>\n",
              "      <td>5</td>\n",
              "      <td>2</td>\n",
              "      <td>False</td>\n",
              "      <td>False</td>\n",
              "      <td>2</td>\n",
              "      <td>False</td>\n",
              "      <td>2</td>\n",
              "      <td>0</td>\n",
              "      <td>2</td>\n",
              "      <td>1</td>\n",
              "      <td>0</td>\n",
              "    </tr>\n",
              "    <tr>\n",
              "      <th>8139</th>\n",
              "      <td>Кредит на потребительские нужды</td>\n",
              "      <td>500000.00</td>\n",
              "      <td>Индивидуальный предприниматель</td>\n",
              "      <td>Индивидуальный предприниматель</td>\n",
              "      <td>ИП</td>\n",
              "      <td>Мужской</td>\n",
              "      <td>Высшее образование</td>\n",
              "      <td>Охранные предприятия</td>\n",
              "      <td>21-100</td>\n",
              "      <td>12.000000</td>\n",
              "      <td>2</td>\n",
              "      <td>Алтайский край</td>\n",
              "      <td>2-НДФЛ</td>\n",
              "      <td>да</td>\n",
              "      <td>нет</td>\n",
              "      <td>Постоянная, полная занятость</td>\n",
              "      <td>8</td>\n",
              "      <td>3</td>\n",
              "      <td>False</td>\n",
              "      <td>False</td>\n",
              "      <td>3</td>\n",
              "      <td>False</td>\n",
              "      <td>3</td>\n",
              "      <td>0</td>\n",
              "      <td>2</td>\n",
              "      <td>0</td>\n",
              "      <td>0</td>\n",
              "    </tr>\n",
              "    <tr>\n",
              "      <th>1514</th>\n",
              "      <td>Кредит на потребительские нужды</td>\n",
              "      <td>564132.00</td>\n",
              "      <td>na</td>\n",
              "      <td>Сотрудник \\ Рабочий \\ Ассистент</td>\n",
              "      <td>0</td>\n",
              "      <td>Мужской</td>\n",
              "      <td>Высшее образование</td>\n",
              "      <td>Нефть, нефтепереработка, газ</td>\n",
              "      <td>более 500</td>\n",
              "      <td>5.000000</td>\n",
              "      <td>1</td>\n",
              "      <td>Татарстан</td>\n",
              "      <td>2-НДФЛ</td>\n",
              "      <td>нет</td>\n",
              "      <td>нет</td>\n",
              "      <td>Постоянная, полная занятость</td>\n",
              "      <td>9</td>\n",
              "      <td>4</td>\n",
              "      <td>False</td>\n",
              "      <td>False</td>\n",
              "      <td>0</td>\n",
              "      <td>False</td>\n",
              "      <td>3</td>\n",
              "      <td>1</td>\n",
              "      <td>1</td>\n",
              "      <td>1</td>\n",
              "      <td>0</td>\n",
              "    </tr>\n",
              "    <tr>\n",
              "      <th>7313</th>\n",
              "      <td>Кредит на потребительские нужды</td>\n",
              "      <td>608400.00</td>\n",
              "      <td>na</td>\n",
              "      <td>Сотрудник \\ Рабочий \\ Ассистент</td>\n",
              "      <td>0</td>\n",
              "      <td>Женский</td>\n",
              "      <td>Среднее специальное образование</td>\n",
              "      <td>Государственная служба</td>\n",
              "      <td>101-500</td>\n",
              "      <td>6.000000</td>\n",
              "      <td>0</td>\n",
              "      <td>Татарстан</td>\n",
              "      <td>Выписка по счету</td>\n",
              "      <td>да</td>\n",
              "      <td>нет</td>\n",
              "      <td>Постоянная, полная занятость</td>\n",
              "      <td>12</td>\n",
              "      <td>1</td>\n",
              "      <td>False</td>\n",
              "      <td>False</td>\n",
              "      <td>2</td>\n",
              "      <td>False</td>\n",
              "      <td>4</td>\n",
              "      <td>0</td>\n",
              "      <td>1</td>\n",
              "      <td>1</td>\n",
              "      <td>0</td>\n",
              "    </tr>\n",
              "    <tr>\n",
              "      <th>...</th>\n",
              "      <td>...</td>\n",
              "      <td>...</td>\n",
              "      <td>...</td>\n",
              "      <td>...</td>\n",
              "      <td>...</td>\n",
              "      <td>...</td>\n",
              "      <td>...</td>\n",
              "      <td>...</td>\n",
              "      <td>...</td>\n",
              "      <td>...</td>\n",
              "      <td>...</td>\n",
              "      <td>...</td>\n",
              "      <td>...</td>\n",
              "      <td>...</td>\n",
              "      <td>...</td>\n",
              "      <td>...</td>\n",
              "      <td>...</td>\n",
              "      <td>...</td>\n",
              "      <td>...</td>\n",
              "      <td>...</td>\n",
              "      <td>...</td>\n",
              "      <td>...</td>\n",
              "      <td>...</td>\n",
              "      <td>...</td>\n",
              "      <td>...</td>\n",
              "      <td>...</td>\n",
              "      <td>...</td>\n",
              "    </tr>\n",
              "    <tr>\n",
              "      <th>4253</th>\n",
              "      <td>Кредит на потребительские нужды</td>\n",
              "      <td>168750.00</td>\n",
              "      <td>na</td>\n",
              "      <td>Сотрудник \\ Рабочий \\ Ассистент</td>\n",
              "      <td>0</td>\n",
              "      <td>Женский</td>\n",
              "      <td>Среднее образование</td>\n",
              "      <td>Общественное питание</td>\n",
              "      <td>до 20</td>\n",
              "      <td>10.666666</td>\n",
              "      <td>0</td>\n",
              "      <td>Ульяновская обл.</td>\n",
              "      <td>Справка по форме Банка от работодателя</td>\n",
              "      <td>нет</td>\n",
              "      <td>нет</td>\n",
              "      <td>Постоянная, полная занятость</td>\n",
              "      <td>7</td>\n",
              "      <td>3</td>\n",
              "      <td>False</td>\n",
              "      <td>False</td>\n",
              "      <td>0</td>\n",
              "      <td>False</td>\n",
              "      <td>3</td>\n",
              "      <td>0</td>\n",
              "      <td>3</td>\n",
              "      <td>1</td>\n",
              "      <td>0</td>\n",
              "    </tr>\n",
              "    <tr>\n",
              "      <th>3655</th>\n",
              "      <td>Кредит на потребительские нужды</td>\n",
              "      <td>325725.00</td>\n",
              "      <td>по найму</td>\n",
              "      <td>Главный Специалист\\Руководитель среднего звена</td>\n",
              "      <td>0</td>\n",
              "      <td>Женский</td>\n",
              "      <td>Высшее образование</td>\n",
              "      <td>Образование</td>\n",
              "      <td>21-100</td>\n",
              "      <td>12.000000</td>\n",
              "      <td>1</td>\n",
              "      <td>Татарстан</td>\n",
              "      <td>Выписка по счету</td>\n",
              "      <td>да</td>\n",
              "      <td>нет</td>\n",
              "      <td>Постоянная, полная занятость</td>\n",
              "      <td>5</td>\n",
              "      <td>2</td>\n",
              "      <td>False</td>\n",
              "      <td>False</td>\n",
              "      <td>2</td>\n",
              "      <td>False</td>\n",
              "      <td>2</td>\n",
              "      <td>1</td>\n",
              "      <td>2</td>\n",
              "      <td>1</td>\n",
              "      <td>0</td>\n",
              "    </tr>\n",
              "    <tr>\n",
              "      <th>1661</th>\n",
              "      <td>Кредитная карта</td>\n",
              "      <td>0.00</td>\n",
              "      <td>na</td>\n",
              "      <td>Эксперт\\Старший или Ведущий Специалист</td>\n",
              "      <td>0</td>\n",
              "      <td>Женский</td>\n",
              "      <td>Незаконченное высшее образование</td>\n",
              "      <td>Финансовые институты</td>\n",
              "      <td>более 500</td>\n",
              "      <td>4.250000</td>\n",
              "      <td>0</td>\n",
              "      <td>Самарская обл.</td>\n",
              "      <td>Выписка по счету</td>\n",
              "      <td>нет</td>\n",
              "      <td>да</td>\n",
              "      <td>Постоянная, полная занятость</td>\n",
              "      <td>10</td>\n",
              "      <td>4</td>\n",
              "      <td>False</td>\n",
              "      <td>False</td>\n",
              "      <td>3</td>\n",
              "      <td>False</td>\n",
              "      <td>4</td>\n",
              "      <td>0</td>\n",
              "      <td>2</td>\n",
              "      <td>1</td>\n",
              "      <td>0</td>\n",
              "    </tr>\n",
              "    <tr>\n",
              "      <th>2139</th>\n",
              "      <td>Кредитная карта</td>\n",
              "      <td>100000.00</td>\n",
              "      <td>na</td>\n",
              "      <td>Сотрудник \\ Рабочий \\ Ассистент</td>\n",
              "      <td>0</td>\n",
              "      <td>Женский</td>\n",
              "      <td>Незаконченное высшее образование</td>\n",
              "      <td>Прочее</td>\n",
              "      <td>21-100</td>\n",
              "      <td>0.750000</td>\n",
              "      <td>0</td>\n",
              "      <td>Москва и Московская обл.</td>\n",
              "      <td>Справка по форме Банка от работодателя</td>\n",
              "      <td>нет</td>\n",
              "      <td>нет</td>\n",
              "      <td>Постоянная, полная занятость</td>\n",
              "      <td>11</td>\n",
              "      <td>4</td>\n",
              "      <td>False</td>\n",
              "      <td>False</td>\n",
              "      <td>1</td>\n",
              "      <td>False</td>\n",
              "      <td>4</td>\n",
              "      <td>0</td>\n",
              "      <td>0</td>\n",
              "      <td>1</td>\n",
              "      <td>0</td>\n",
              "    </tr>\n",
              "    <tr>\n",
              "      <th>7491</th>\n",
              "      <td>Кредит на потребительские нужды</td>\n",
              "      <td>659446.26</td>\n",
              "      <td>na</td>\n",
              "      <td>Сотрудник \\ Рабочий \\ Ассистент</td>\n",
              "      <td>0</td>\n",
              "      <td>Женский</td>\n",
              "      <td>Высшее образование</td>\n",
              "      <td>Нефть, нефтепереработка, газ</td>\n",
              "      <td>более 500</td>\n",
              "      <td>10.000000</td>\n",
              "      <td>0</td>\n",
              "      <td>Татарстан</td>\n",
              "      <td>2-НДФЛ</td>\n",
              "      <td>нет</td>\n",
              "      <td>нет</td>\n",
              "      <td>Постоянная, полная занятость</td>\n",
              "      <td>7</td>\n",
              "      <td>3</td>\n",
              "      <td>False</td>\n",
              "      <td>False</td>\n",
              "      <td>2</td>\n",
              "      <td>False</td>\n",
              "      <td>3</td>\n",
              "      <td>1</td>\n",
              "      <td>3</td>\n",
              "      <td>1</td>\n",
              "      <td>0</td>\n",
              "    </tr>\n",
              "  </tbody>\n",
              "</table>\n",
              "<p>6375 rows × 27 columns</p>\n",
              "</div>"
            ],
            "text/plain": [
              "                          ProductName  ...  Residence_село\n",
              "5197  Кредит на потребительские нужды  ...               0\n",
              "5787  Кредит на потребительские нужды  ...               0\n",
              "8139  Кредит на потребительские нужды  ...               0\n",
              "1514  Кредит на потребительские нужды  ...               0\n",
              "7313  Кредит на потребительские нужды  ...               0\n",
              "...                               ...  ...             ...\n",
              "4253  Кредит на потребительские нужды  ...               0\n",
              "3655  Кредит на потребительские нужды  ...               0\n",
              "1661                  Кредитная карта  ...               0\n",
              "2139                  Кредитная карта  ...               0\n",
              "7491  Кредит на потребительские нужды  ...               0\n",
              "\n",
              "[6375 rows x 27 columns]"
            ]
          },
          "metadata": {
            "tags": []
          }
        }
      ]
    },
    {
      "cell_type": "code",
      "metadata": {
        "id": "Jgn5Vfs3AwCW",
        "colab_type": "code",
        "colab": {
          "base_uri": "https://localhost:8080/",
          "height": 419
        },
        "outputId": "2e1213c7-06a8-447f-f713-4dcc901d1e31"
      },
      "source": [
        "X[X_ini.Residence=='na'][[f for f in X.columns if 'Residence' in f]]"
      ],
      "execution_count": 393,
      "outputs": [
        {
          "output_type": "execute_result",
          "data": {
            "text/html": [
              "<div>\n",
              "<style scoped>\n",
              "    .dataframe tbody tr th:only-of-type {\n",
              "        vertical-align: middle;\n",
              "    }\n",
              "\n",
              "    .dataframe tbody tr th {\n",
              "        vertical-align: top;\n",
              "    }\n",
              "\n",
              "    .dataframe thead th {\n",
              "        text-align: right;\n",
              "    }\n",
              "</style>\n",
              "<table border=\"1\" class=\"dataframe\">\n",
              "  <thead>\n",
              "    <tr style=\"text-align: right;\">\n",
              "      <th></th>\n",
              "      <th>Residence_город</th>\n",
              "      <th>Residence_село</th>\n",
              "    </tr>\n",
              "  </thead>\n",
              "  <tbody>\n",
              "    <tr>\n",
              "      <th>5197</th>\n",
              "      <td>0</td>\n",
              "      <td>0</td>\n",
              "    </tr>\n",
              "    <tr>\n",
              "      <th>8139</th>\n",
              "      <td>0</td>\n",
              "      <td>0</td>\n",
              "    </tr>\n",
              "    <tr>\n",
              "      <th>3365</th>\n",
              "      <td>0</td>\n",
              "      <td>0</td>\n",
              "    </tr>\n",
              "    <tr>\n",
              "      <th>5045</th>\n",
              "      <td>0</td>\n",
              "      <td>0</td>\n",
              "    </tr>\n",
              "    <tr>\n",
              "      <th>4942</th>\n",
              "      <td>0</td>\n",
              "      <td>0</td>\n",
              "    </tr>\n",
              "    <tr>\n",
              "      <th>...</th>\n",
              "      <td>...</td>\n",
              "      <td>...</td>\n",
              "    </tr>\n",
              "    <tr>\n",
              "      <th>6897</th>\n",
              "      <td>0</td>\n",
              "      <td>0</td>\n",
              "    </tr>\n",
              "    <tr>\n",
              "      <th>5200</th>\n",
              "      <td>0</td>\n",
              "      <td>0</td>\n",
              "    </tr>\n",
              "    <tr>\n",
              "      <th>8190</th>\n",
              "      <td>0</td>\n",
              "      <td>0</td>\n",
              "    </tr>\n",
              "    <tr>\n",
              "      <th>3426</th>\n",
              "      <td>0</td>\n",
              "      <td>0</td>\n",
              "    </tr>\n",
              "    <tr>\n",
              "      <th>8065</th>\n",
              "      <td>0</td>\n",
              "      <td>0</td>\n",
              "    </tr>\n",
              "  </tbody>\n",
              "</table>\n",
              "<p>500 rows × 2 columns</p>\n",
              "</div>"
            ],
            "text/plain": [
              "      Residence_город  Residence_село\n",
              "5197                0               0\n",
              "8139                0               0\n",
              "3365                0               0\n",
              "5045                0               0\n",
              "4942                0               0\n",
              "...               ...             ...\n",
              "6897                0               0\n",
              "5200                0               0\n",
              "8190                0               0\n",
              "3426                0               0\n",
              "8065                0               0\n",
              "\n",
              "[500 rows x 2 columns]"
            ]
          },
          "metadata": {
            "tags": []
          },
          "execution_count": 393
        }
      ]
    },
    {
      "cell_type": "code",
      "metadata": {
        "id": "RVIsxcg2j8Hl",
        "colab_type": "code",
        "colab": {
          "base_uri": "https://localhost:8080/",
          "height": 34
        },
        "outputId": "491bd8ee-ce96-4716-9475-4517ba6db24e"
      },
      "source": [
        "X_ini[['CreditSum']].isna().any(axis=1).sum()"
      ],
      "execution_count": 450,
      "outputs": [
        {
          "output_type": "execute_result",
          "data": {
            "text/plain": [
              "5"
            ]
          },
          "metadata": {
            "tags": []
          },
          "execution_count": 450
        }
      ]
    },
    {
      "cell_type": "code",
      "metadata": {
        "id": "MrqCsTMAnNiS",
        "colab_type": "code",
        "colab": {}
      },
      "source": [
        ""
      ],
      "execution_count": null,
      "outputs": []
    },
    {
      "cell_type": "code",
      "metadata": {
        "id": "R0U_EseO6Vj7",
        "colab_type": "code",
        "colab": {
          "base_uri": "https://localhost:8080/",
          "height": 1000
        },
        "outputId": "b0eaf98d-0a26-4fb4-d733-1623db718386"
      },
      "source": [
        "%%time\n",
        "params = {'booster': 'gblinear',\n",
        "          'objective': 'reg:squarederror',\n",
        "          'eval_metric': 'rmse',\n",
        "          'seed': 2020,\n",
        "          'updater' : 'coord_descent',\n",
        "          'feature_selector': 'greedy',  \n",
        "          # 'top_k': 10,\n",
        "          'alpha': 1, \n",
        "          'lambda': 0,\n",
        "          # 'eta': 0.1\n",
        "          }\n",
        "X, X_test = X_ini.copy(), X_test_ini.copy()\n",
        "y, y_test = y_ini.copy(), y_test_ini.copy()\n",
        "# features = ['CreditSum', 'OrgStanding_N'] # org - dosnt change score, credite - worse\n",
        "# X, X_test = features_log(features, X, X_test)\n",
        "\n",
        "X, y, X_test, y_test = move_na_train_to_test(['CreditSum'], X,y, X_test, y_test)\n",
        "\n",
        "# X.CreditSum.fillna(0, inplace=True)\n",
        "# X_test.CreditSum.fillna(0, inplace=True)\n",
        "\n",
        "\n",
        "X, X_test = features_scaler(features_num, X, X_test)\n",
        "\n",
        "employ_ip_to_rukovoditel(X, X_test)\n",
        "# X_test = pd.concat([X_test, X[X.harakteristika_tekutschego_trudoustrojstva.isna()]])\n",
        "# X = X[X.harakteristika_tekutschego_trudoustrojstva.notna()]\n",
        "\n",
        "# X.loc[X.Residence == 'na', 'Residence'] = 'село'\n",
        "# X_test.loc[X_test.Residence == 'na', 'Residence'] = 'село'\n",
        "\n",
        "to_ohe = df[features_cat + features_time].columns[df[features_cat + features_time].nunique() <20]\n",
        "X, X_test = features_ohe(to_ohe, X, X_test)\n",
        "\n",
        "to_le = [f for f in features_cat if f not in to_ohe]\n",
        "X, X_test = features_le(to_le, X, X_test)\n",
        "\n",
        "\n",
        "\n",
        "\n",
        "\n",
        "dtest = xgb.DMatrix(X_test, y_test)\n",
        "dtrain = xgb.DMatrix(X, y)\n",
        "\n",
        "num_boost = 1000\n",
        "\n",
        "xgb.cv(params, dtrain, num_boost_round=num_boost, folds=cv5, metrics='rmse', \n",
        "       early_stopping_rounds=10, verbose_eval=1, as_pandas=True)"
      ],
      "execution_count": 459,
      "outputs": [
        {
          "output_type": "stream",
          "text": [
            "[0]\ttrain-rmse:21855.7+288.746\ttest-rmse:22257.4+1338.31\n",
            "[1]\ttrain-rmse:21373.4+302.849\ttest-rmse:21824.5+1302.15\n",
            "[2]\ttrain-rmse:21192.6+313.681\ttest-rmse:21659+1293.76\n",
            "[3]\ttrain-rmse:21094.9+316.927\ttest-rmse:21577.6+1280.2\n",
            "[4]\ttrain-rmse:21031.3+318.114\ttest-rmse:21535+1275.29\n",
            "[5]\ttrain-rmse:20991.3+318.693\ttest-rmse:21505.4+1266.83\n",
            "[6]\ttrain-rmse:20967.7+318.214\ttest-rmse:21486.9+1262.27\n",
            "[7]\ttrain-rmse:20952.4+316.478\ttest-rmse:21481+1261.78\n",
            "[8]\ttrain-rmse:20943.6+315.52\ttest-rmse:21477.9+1258.52\n",
            "[9]\ttrain-rmse:20938.3+315.139\ttest-rmse:21474.5+1257.79\n",
            "[10]\ttrain-rmse:20934.8+314.513\ttest-rmse:21474.2+1256.72\n",
            "[11]\ttrain-rmse:20932.3+314.08\ttest-rmse:21472.6+1256.07\n",
            "[12]\ttrain-rmse:20930.3+313.734\ttest-rmse:21471.2+1255.94\n",
            "[13]\ttrain-rmse:20928.4+313.314\ttest-rmse:21470.3+1255.88\n",
            "[14]\ttrain-rmse:20926.6+313.035\ttest-rmse:21469.4+1254.77\n",
            "[15]\ttrain-rmse:20925.1+312.739\ttest-rmse:21469.6+1255.31\n",
            "[16]\ttrain-rmse:20923.7+312.486\ttest-rmse:21469+1255.27\n",
            "[17]\ttrain-rmse:20922.6+312.363\ttest-rmse:21468.3+1255.07\n",
            "[18]\ttrain-rmse:20921.5+312.26\ttest-rmse:21467.9+1254.32\n",
            "[19]\ttrain-rmse:20920.7+312.146\ttest-rmse:21467.7+1254.42\n",
            "[20]\ttrain-rmse:20919.8+312.084\ttest-rmse:21466.8+1253.92\n",
            "[21]\ttrain-rmse:20919+311.98\ttest-rmse:21466.3+1253.96\n",
            "[22]\ttrain-rmse:20918.3+311.89\ttest-rmse:21465.8+1253.54\n",
            "[23]\ttrain-rmse:20917.6+311.779\ttest-rmse:21465.4+1252.53\n",
            "[24]\ttrain-rmse:20917+311.687\ttest-rmse:21465.7+1252.73\n",
            "[25]\ttrain-rmse:20916.4+311.563\ttest-rmse:21466+1252.29\n",
            "[26]\ttrain-rmse:20914.8+312.803\ttest-rmse:21466.2+1252.71\n",
            "[27]\ttrain-rmse:20913.3+313.93\ttest-rmse:21463.7+1249.53\n",
            "[28]\ttrain-rmse:20912.5+314.403\ttest-rmse:21465.3+1251.71\n",
            "[29]\ttrain-rmse:20911.6+314.936\ttest-rmse:21464.5+1251\n",
            "[30]\ttrain-rmse:20910.8+315.335\ttest-rmse:21464.4+1251.03\n",
            "[31]\ttrain-rmse:20910.1+315.726\ttest-rmse:21464.3+1250.8\n",
            "[32]\ttrain-rmse:20909.1+316.504\ttest-rmse:21464.3+1250.99\n",
            "[33]\ttrain-rmse:20908.5+316.815\ttest-rmse:21464.9+1251.05\n",
            "[34]\ttrain-rmse:20907.6+317.289\ttest-rmse:21464.5+1250.8\n",
            "[35]\ttrain-rmse:20907+317.636\ttest-rmse:21463.8+1249.84\n",
            "[36]\ttrain-rmse:20905.9+318.286\ttest-rmse:21462.9+1249.4\n",
            "[37]\ttrain-rmse:20904.9+318.929\ttest-rmse:21462+1248.74\n",
            "[38]\ttrain-rmse:20903.7+319.294\ttest-rmse:21462.1+1248.89\n",
            "[39]\ttrain-rmse:20902.9+319.922\ttest-rmse:21461.7+1248.33\n",
            "[40]\ttrain-rmse:20901.6+320.486\ttest-rmse:21461.3+1248.18\n",
            "[41]\ttrain-rmse:20900.8+320.887\ttest-rmse:21461.3+1248.57\n",
            "[42]\ttrain-rmse:20898.5+320.028\ttest-rmse:21459.6+1248.35\n",
            "[43]\ttrain-rmse:20895.7+318.74\ttest-rmse:21458.2+1249.03\n",
            "[44]\ttrain-rmse:20895+318.9\ttest-rmse:21458.4+1249.48\n",
            "[45]\ttrain-rmse:20893.1+318.263\ttest-rmse:21456.5+1249.45\n",
            "[46]\ttrain-rmse:20892.2+318.564\ttest-rmse:21456.3+1249.4\n",
            "[47]\ttrain-rmse:20890.9+317.786\ttest-rmse:21455.8+1249.48\n",
            "[48]\ttrain-rmse:20889.5+317.197\ttest-rmse:21455.1+1249.45\n",
            "[49]\ttrain-rmse:20888.1+317.263\ttest-rmse:21455.2+1249.61\n",
            "[50]\ttrain-rmse:20887.3+316.976\ttest-rmse:21455.3+1250.36\n",
            "[51]\ttrain-rmse:20886.2+316.424\ttest-rmse:21454.2+1249.75\n",
            "[52]\ttrain-rmse:20884.6+316.103\ttest-rmse:21454.2+1250.43\n",
            "[53]\ttrain-rmse:20883.4+315.651\ttest-rmse:21453.6+1249.97\n",
            "[54]\ttrain-rmse:20883.1+315.855\ttest-rmse:21453.5+1249.76\n",
            "[55]\ttrain-rmse:20882.4+315.588\ttest-rmse:21454.2+1249.94\n",
            "[56]\ttrain-rmse:20881.1+315.159\ttest-rmse:21452.7+1250.86\n",
            "[57]\ttrain-rmse:20880.6+314.954\ttest-rmse:21453.5+1250.4\n",
            "[58]\ttrain-rmse:20879.4+314.86\ttest-rmse:21453.3+1249.62\n",
            "[59]\ttrain-rmse:20878.6+314.533\ttest-rmse:21453.1+1249.91\n",
            "[60]\ttrain-rmse:20877.8+314.353\ttest-rmse:21451.8+1250.74\n",
            "[61]\ttrain-rmse:20877+314.3\ttest-rmse:21453.1+1250.19\n",
            "[62]\ttrain-rmse:20876.6+314.161\ttest-rmse:21452.9+1250.72\n",
            "[63]\ttrain-rmse:20875.8+314.045\ttest-rmse:21451.9+1250.31\n",
            "[64]\ttrain-rmse:20874.9+313.512\ttest-rmse:21452.1+1251.06\n",
            "[65]\ttrain-rmse:20874.3+313.33\ttest-rmse:21452+1251.46\n",
            "[66]\ttrain-rmse:20873.8+313.083\ttest-rmse:21451.6+1251.5\n",
            "[67]\ttrain-rmse:20873.2+312.831\ttest-rmse:21451.4+1252.14\n",
            "[68]\ttrain-rmse:20872.7+312.665\ttest-rmse:21451.5+1252.53\n",
            "[69]\ttrain-rmse:20872.4+312.447\ttest-rmse:21451.5+1252.29\n",
            "[70]\ttrain-rmse:20871.9+312.361\ttest-rmse:21451.5+1252.9\n",
            "[71]\ttrain-rmse:20871.4+312.253\ttest-rmse:21451.6+1252.79\n",
            "[72]\ttrain-rmse:20871.1+312.131\ttest-rmse:21451+1252.64\n",
            "[73]\ttrain-rmse:20870.7+311.959\ttest-rmse:21449.9+1253.26\n",
            "[74]\ttrain-rmse:20870.3+311.843\ttest-rmse:21450.6+1252.99\n",
            "[75]\ttrain-rmse:20870+311.741\ttest-rmse:21450.5+1252.93\n",
            "[76]\ttrain-rmse:20869.7+311.668\ttest-rmse:21450.4+1253.11\n",
            "[77]\ttrain-rmse:20869.4+311.586\ttest-rmse:21450.2+1253.17\n",
            "[78]\ttrain-rmse:20869.1+311.488\ttest-rmse:21450.3+1253.06\n",
            "[79]\ttrain-rmse:20869+311.531\ttest-rmse:21450.4+1253.18\n",
            "[80]\ttrain-rmse:20868.7+311.461\ttest-rmse:21450.1+1253.19\n",
            "[81]\ttrain-rmse:20868.4+311.407\ttest-rmse:21450.1+1253.53\n",
            "[82]\ttrain-rmse:20868.2+311.323\ttest-rmse:21450.3+1253.44\n",
            "CPU times: user 3min 15s, sys: 325 ms, total: 3min 16s\n",
            "Wall time: 1min 40s\n"
          ],
          "name": "stdout"
        }
      ]
    },
    {
      "cell_type": "code",
      "metadata": {
        "id": "QjS4ZzRJ94Gn",
        "colab_type": "code",
        "colab": {
          "base_uri": "https://localhost:8080/",
          "height": 409
        },
        "outputId": "2706ea57-bd88-4a78-e67d-31e77f614d7c"
      },
      "source": [
        "num_boost = 73\n",
        "model = xgb.train(params, dtrain, num_boost)\n",
        "pred = model.predict(dtest)\n",
        "\n",
        "print(np.sqrt(mean_squared_error(y_test, pred)))\n",
        "pd.DataFrame(np.vstack([y_test.values,pred]).T, columns=['true', 'pred']) \\\n",
        "    .plot(x='true', y='pred', kind='scatter', xlim=(-1,300000), ylim=(-1,300000),\n",
        "          figsize=(6,6));"
      ],
      "execution_count": 460,
      "outputs": [
        {
          "output_type": "stream",
          "text": [
            "22309.436567252975\n"
          ],
          "name": "stdout"
        },
        {
          "output_type": "display_data",
          "data": {
            "image/png": "[encoded data removed]",
            "text/plain": [
              "<Figure size 432x432 with 1 Axes>"
            ]
          },
          "metadata": {
            "tags": [],
            "needs_background": "light"
          }
        }
      ]
    },
    {
      "cell_type": "code",
      "metadata": {
        "id": "RAnLGf3J6V1D",
        "colab_type": "code",
        "colab": {
          "base_uri": "https://localhost:8080/",
          "height": 646
        },
        "outputId": "ba3f6705-e6eb-42e3-a8aa-7c38fe600159"
      },
      "source": [
        "weight = model.get_dump(with_stats=False, dump_format='json')\n",
        "import json\n",
        "\n",
        "weight = np.array(json.loads(weight[0])['weight'])\n",
        "features_imp = X.columns[weight.astype('bool')]\n",
        "features_imp.shape, X.shape[1], features_imp "
      ],
      "execution_count": 417,
      "outputs": [
        {
          "output_type": "execute_result",
          "data": {
            "text/plain": [
              "((60,), 70, Index(['CreditSum', 'OrgStanding_N', 'in_region',\n",
              "        'ProductName_Кредитная карта',\n",
              "        'TypeOfWork_Агент на комиссионом договоре',\n",
              "        'TypeOfWork_Индивидуальный предприниматель', 'TypeOfWork_по найму',\n",
              "        'Employment_Руководитель высшего звена',\n",
              "        'Employment_Сотрудник \\ Рабочий \\ Ассистент',\n",
              "        'Employment_Эксперт\\Старший или Ведущий Специалист',\n",
              "        'Employment_нет данных', 'sex_Мужской',\n",
              "        'EducationStatus_Высшее образование',\n",
              "        'EducationStatus_Незаконченное высшее образование',\n",
              "        'EducationStatus_Незаконченное среднее образование',\n",
              "        'EducationStatus_Несколько высших образований',\n",
              "        'EducationStatus_Среднее образование',\n",
              "        'EducationStatus_Среднее специальное образование',\n",
              "        'kolichestvo_rabotnikov_v_organizacii_21-100',\n",
              "        'kolichestvo_rabotnikov_v_organizacii_более 500',\n",
              "        'kolichestvo_rabotnikov_v_organizacii_до 20',\n",
              "        'kolichestvo_detej_mladshe_18_1', 'kolichestvo_detej_mladshe_18_2',\n",
              "        'kolichestvo_detej_mladshe_18_3', 'kolichestvo_detej_mladshe_18_4',\n",
              "        'kolichestvo_detej_mladshe_18_7', 'Residence_город', 'Residence_село',\n",
              "        'IncomeDocumentKind_Выписка по счету', 'IncomeDocumentKind_Иное',\n",
              "        'IncomeDocumentKind_Нет (не предоставлен)',\n",
              "        'IncomeDocumentKind_Нет запрашивали',\n",
              "        'IncomeDocumentKind_Справка по форме Банка от работодателя',\n",
              "        'HaveSalaryCard_нет', 'IsBankWorker_нет',\n",
              "        'harakteristika_tekutschego_trudoustrojstva_Частичная или временная занятость',\n",
              "        'age_cat_1', 'age_cat_2', 'age_cat_3', 'age_cat_4',\n",
              "        'RequestDate_month_2', 'RequestDate_month_3', 'RequestDate_month_4',\n",
              "        'RequestDate_month_5', 'RequestDate_month_6', 'RequestDate_month_7',\n",
              "        'RequestDate_month_8', 'RequestDate_month_9', 'RequestDate_month_10',\n",
              "        'RequestDate_month_11', 'RequestDate_month_12',\n",
              "        'RequestDate_is_month_start_True', 'RequestDate_is_month_end_True',\n",
              "        'RequestDate_dayofweek_1', 'RequestDate_dayofweek_2',\n",
              "        'RequestDate_dayofweek_3', 'RequestDate_dayofweek_4',\n",
              "        'RequestDate_dayofweek_5', 'RequestDate_dayofweek_6',\n",
              "        'RequestDate_quarter_4'],\n",
              "       dtype='object'))"
            ]
          },
          "metadata": {
            "tags": []
          },
          "execution_count": 417
        }
      ]
    },
    {
      "cell_type": "code",
      "metadata": {
        "id": "7gHwzET1u_Fr",
        "colab_type": "code",
        "colab": {}
      },
      "source": [
        "from lightgbm import LGBMRegressor, cv\n",
        "import lightgbm as lgb\n",
        "import matplotlib.gridspec as gridspec"
      ],
      "execution_count": 409,
      "outputs": []
    },
    {
      "cell_type": "code",
      "metadata": {
        "id": "QqRgD4VWunrQ",
        "colab_type": "code",
        "colab": {
          "base_uri": "https://localhost:8080/",
          "height": 348
        },
        "outputId": "45f68063-f5ba-4fbc-b520-1be307969baa"
      },
      "source": [
        "# features_null_imp_cat = [f for f in features_cat if f in features_null_imp_gain]\n",
        "dtrain = lgb.Dataset(X, y)\n",
        "\n",
        "params = {'learning_rate': 0.03,\n",
        "          'num_leaves': 17,\n",
        "          'min_child_samples': 15,\n",
        "        # 'subsample': 0.623,\n",
        "        # 'colsample_bytree': 0.2,\n",
        "        # 'max_depth': 3,\n",
        "        # 'seed': seed,\n",
        "        # 'bagging_freq': 1,\n",
        "        \n",
        "          'objective': 'mean_squared_error',\n",
        "          'n_jobs': -1,\n",
        "          # 'is_unbalance': False\n",
        "          }\n",
        "\n",
        "res = cv(params, dtrain, num_boost_round=500, folds=cv5)\n",
        "print(np.sqrt(np.mean(res['l2-mean'])))\n",
        "pd.Series(res['l2-mean']).plot();"
      ],
      "execution_count": 418,
      "outputs": [
        {
          "output_type": "stream",
          "text": [
            "20976.474007722627\n"
          ],
          "name": "stdout"
        },
        {
          "output_type": "display_data",
          "data": {
            "image/png": "[encoded data removed]",
            "text/plain": [
              "<Figure size 720x360 with 1 Axes>"
            ]
          },
          "metadata": {
            "tags": [],
            "needs_background": "light"
          }
        }
      ]
    },
    {
      "cell_type": "code",
      "metadata": {
        "id": "bo_MUTIHv6uU",
        "colab_type": "code",
        "colab": {
          "base_uri": "https://localhost:8080/",
          "height": 355
        },
        "outputId": "3edb3539-8526-4667-da95-b5a45792cd2b"
      },
      "source": [
        "dtest = lgb.Dataset(X_test, y_test)\n",
        "clf = lgb.train(params, dtrain, num_boost_round=500)\n",
        "pred = clf.predict(X_test)\n",
        "\n",
        "print(np.sqrt(mean_squared_error(y_test, pred)))\n",
        "pd.DataFrame(np.vstack([y_test.values,pred]).T, columns=['true', 'pred']) \\\n",
        "    .plot(x='true', y='pred', kind='scatter', xlim=(-1,300000), ylim=(-1, 300000));"
      ],
      "execution_count": 419,
      "outputs": [
        {
          "output_type": "stream",
          "text": [
            "21470.331497524145\n"
          ],
          "name": "stdout"
        },
        {
          "output_type": "display_data",
          "data": {
            "image/png": "[encoded data removed]",
            "text/plain": [
              "<Figure size 720x360 with 1 Axes>"
            ]
          },
          "metadata": {
            "tags": [],
            "needs_background": "light"
          }
        }
      ]
    },
    {
      "cell_type": "code",
      "metadata": {
        "id": "0PV73kdpv1Tp",
        "colab_type": "code",
        "colab": {
          "base_uri": "https://localhost:8080/",
          "height": 348
        },
        "outputId": "dc03d7b4-f482-4ecc-a7cd-20211cd1fa80"
      },
      "source": [
        "dtrain = lgb.Dataset(X[features_imp], y)\n",
        "res = cv(params, dtrain, num_boost_round=500, folds=cv5,\n",
        "   )\n",
        "print(np.sqrt(np.mean(res['l2-mean'])))\n",
        "pd.Series(res['l2-mean']).plot();"
      ],
      "execution_count": 420,
      "outputs": [
        {
          "output_type": "stream",
          "text": [
            "21321.75580640313\n"
          ],
          "name": "stdout"
        },
        {
          "output_type": "display_data",
          "data": {
            "image/png": "[encoded data removed]",
            "text/plain": [
              "<Figure size 720x360 with 1 Axes>"
            ]
          },
          "metadata": {
            "tags": [],
            "needs_background": "light"
          }
        }
      ]
    },
    {
      "cell_type": "code",
      "metadata": {
        "id": "g0EokzMBwTCy",
        "colab_type": "code",
        "colab": {
          "base_uri": "https://localhost:8080/",
          "height": 355
        },
        "outputId": "d566b169-9d96-487a-d899-6ee0fdfe2218"
      },
      "source": [
        "dtest = lgb.Dataset(X_test[features_imp], y_test)\n",
        "clf = lgb.train(params, dtrain, num_boost_round=300)\n",
        "pred = clf.predict(X_test[features_imp])\n",
        "\n",
        "print(np.sqrt(mean_squared_error(y_test, pred)))\n",
        "pd.DataFrame(np.vstack([y_test.values,pred]).T, columns=['true', 'pred']) \\\n",
        "    .plot(x='true', y='pred', kind='scatter', xlim=(-1,300000), ylim=(-1, 300000));"
      ],
      "execution_count": 421,
      "outputs": [
        {
          "output_type": "stream",
          "text": [
            "21877.20380396677\n"
          ],
          "name": "stdout"
        },
        {
          "output_type": "display_data",
          "data": {
            "image/png": "[encoded data removed]",
            "text/plain": [
              "<Figure size 720x360 with 1 Axes>"
            ]
          },
          "metadata": {
            "tags": [],
            "needs_background": "light"
          }
        }
      ]
    },
    {
      "cell_type": "code",
      "metadata": {
        "id": "25zJlyYvd-4o",
        "colab_type": "code",
        "colab": {}
      },
      "source": [
        ""
      ],
      "execution_count": null,
      "outputs": []
    }
  ]
}